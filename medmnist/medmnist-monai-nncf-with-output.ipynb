{
 "cells": [
  {
   "cell_type": "markdown",
   "id": "7871269e-d4de-47fc-9485-ef91f3daa66f",
   "metadata": {
    "tags": []
   },
   "source": [
    "# Model Training, Optimization and Quantization with MONAI, PyTorch Lightning and OpenVINO\n",
    "\n",
    "This tutorial shows how to train a [MONAI](https://monai.io/) classification model on a [MedMNIST](https://medmnist.com/) dataset, and quantize the model with [NNCF](https://github.com/openvinotoolkit/nncf).\n",
    "\n",
    "To run this notebook, please create a virtual environment with Python 3.7 or 3.8, with `python -m venv monai_env` (on Linux use `python3`) and install the requirements with `pip install -r requirements.txt`."
   ]
  },
  {
   "cell_type": "markdown",
   "id": "02f2dfd8-e5fa-4439-9862-3b48dc4082eb",
   "metadata": {},
   "source": [
    "## Supported Networks and Datasets\n",
    "\n",
    "The following MONAI Classification Networks are supported in this notebook:\n",
    "\n",
    "`[\"DenseNet\",\"SENet154\", \"SEResNet50\",  \"SEResNext50\"]`. \n",
    "\n",
    "The variants of these networks `\"DenseNet121\", \"DenseNet169\", \"DenseNet201\", \"DenseNet264\",  \"SEResNet101\", \"SEResNet152\", \"SEResNext101\"` also work. \n",
    "\n",
    "All MedMNIST datasets for multi-class and binary-class classification are supported: `['pathmnist', 'dermamnist', 'octmnist', 'pneumoniamnist', 'breastmnist', 'bloodmnist', 'tissuemnist', 'organamnist', 'organcmnist', 'organsmnist', 'organmnist3d', 'nodulemnist3d', 'adrenalmnist3d', 'fracturemnist3d', 'vesselmnist3d', 'synapsemnist3d']`"
   ]
  },
  {
   "cell_type": "markdown",
   "id": "e6b0ff1e-08fa-4e3f-a4d9-7f0d65df2b91",
   "metadata": {},
   "source": [
    "## Imports"
   ]
  },
  {
   "cell_type": "code",
   "execution_count": 120,
   "id": "34db1c72-8d54-4192-8ffa-ee2ebab67c9c",
   "metadata": {
    "tags": []
   },
   "outputs": [],
   "source": [
    "import datetime\n",
    "import inspect\n",
    "import logging\n",
    "import os\n",
    "import random\n",
    "import subprocess\n",
    "import warnings\n",
    "from operator import itemgetter\n",
    "from pathlib import Path\n",
    "from typing import Dict, Optional, Sequence, Tuple\n",
    "\n",
    "import dateutil\n",
    "import matplotlib.pyplot as plt\n",
    "import monai\n",
    "import monai.networks.nets as nets\n",
    "import nncf  # must be imported after torch\n",
    "import numpy as np\n",
    "import pytorch_lightning as pl\n",
    "import torch\n",
    "from IPython.display import Markdown, display\n",
    "from monai.metrics import ConfusionMatrixMetric\n",
    "from monai.transforms import (\n",
    "    Activations,\n",
    "    AddChannel,\n",
    "    AsChannelFirst,\n",
    "    AsDiscrete,\n",
    "    Compose,\n",
    "    ToTensor,\n",
    ")\n",
    "from nncf import NNCFConfig\n",
    "from nncf.common.utils.logger import set_log_level\n",
    "from nncf.torch import create_compressed_model, register_default_init_args\n",
    "from openvino.inference_engine import IECore\n",
    "from pytorch_lightning.callbacks import ModelCheckpoint\n",
    "from pytorch_lightning.loggers import TensorBoardLogger\n",
    "from pytorch_lightning.utilities.model_summary import summarize\n",
    "from sklearn.metrics import classification_report\n",
    "from torch.jit import TracerWarning\n",
    "from torch.utils.data import DataLoader as TorchDataLoader\n",
    "from torch.utils.data import Dataset\n",
    "\n",
    "import medmnist\n",
    "from medmnist import Evaluator"
   ]
  },
  {
   "cell_type": "markdown",
   "id": "722e314f-3b41-48ca-877d-ee2e21bcbbfb",
   "metadata": {
    "tags": []
   },
   "source": [
    "## Dataset, Metric and Model\n",
    "\n",
    "We start by defining a Dataset and DataModule to handle data transformation and loading, a Metric class that specifies how to evaluate the model, and the PyTorch Lightning Model that specifies the MONAI model to use and contains the training and evaluation code."
   ]
  },
  {
   "cell_type": "markdown",
   "id": "22f4a936-87fa-475c-af5e-dd1042de4751",
   "metadata": {
    "tags": []
   },
   "source": [
    "### Data\n",
    "\n",
    "We create a Monai Dataset to load and transform the data, and a PyTorch Lighnting DataModule for accessing this data during training. The dataset returns data as a tuple consisting of (image, mask, image_metadata, mask_metadata).\n",
    "\n",
    "We use Monai Transforms to transform and augment the data during training. During training, we randomly rotate the data, add noise, and shift pixel values. Monai's ImageDataset ensures that the random seed for the image and segmentation mask transform are the same, and therefore that for the random rotation transforms, image and mask will be rotated in the same way. During validation, we only make sure that the dimensions and data type are correct.\n",
    "\n",
    "The specified MedMNIST dataset is downloaded if it has not been downloaded before. See the top of this notebook for the supported datasets"
   ]
  },
  {
   "cell_type": "markdown",
   "id": "b1586697-6d7a-4f45-ad8e-868c04d1f396",
   "metadata": {},
   "source": [
    "#### Dataset"
   ]
  },
  {
   "cell_type": "code",
   "execution_count": 2,
   "id": "f77fead4-d2d4-49e2-9dff-fd9f42c9bff5",
   "metadata": {
    "tags": []
   },
   "outputs": [],
   "source": [
    "class MedMNISTDataset(Dataset):\n",
    "    def __init__(self, medmnist_dataset: str, split: str) -> None:\n",
    "\n",
    "        supported_datasets = [\n",
    "            (ds_name)\n",
    "            for (ds_name, ds_info) in medmnist.INFO.items()\n",
    "            if ds_info[\"task\"] in [\"multi-class\", \"binary-class\"]\n",
    "        ]\n",
    "\n",
    "        if medmnist_dataset not in supported_datasets:\n",
    "            raise ValueError(\n",
    "                f\"{medmnist_dataset} is not a supported dataset. Supported datasets are: \"\n",
    "                f\"{supported_datasets}.\"\n",
    "            )\n",
    "\n",
    "        dataset = getattr(\n",
    "            medmnist, medmnist.dataset.INFO[medmnist_dataset][\"python_class\"]\n",
    "        )\n",
    "        self.num_dims = 3 if medmnist_dataset.endswith(\"3d\") else 2\n",
    "        self.num_channels = medmnist.dataset.INFO[medmnist_dataset][\"n_channels\"]\n",
    "        self.labels = medmnist.dataset.INFO[medmnist_dataset][\"label\"]\n",
    "        self.num_classes = len(self.labels)\n",
    "\n",
    "        transforms = [ToTensor(dtype=torch.float)]\n",
    "        # transforms = []\n",
    "        if self.num_channels == 3:\n",
    "            transforms.append(AsChannelFirst())\n",
    "        elif self.num_dims == 2:\n",
    "            transforms.append(AddChannel())\n",
    "\n",
    "        transform = Compose(transforms)\n",
    "\n",
    "        print(\n",
    "            f\"Setup {medmnist_dataset} {split}, {self.num_channels} channels, \"\n",
    "            f\"{self.num_classes} classes\"\n",
    "        )\n",
    "        split_dataset = dataset(split=split, transform=None, download=True)\n",
    "\n",
    "        data = [\n",
    "            (transform(np.asarray(item[0])), torch.as_tensor(item[1]))\n",
    "            for item in split_dataset\n",
    "        ]\n",
    "        self.data = data\n",
    "\n",
    "    def __len__(self) -> int:\n",
    "        \"\"\"\n",
    "        Returns the number of elements in the dataset\n",
    "        \"\"\"\n",
    "        return len(self.data)\n",
    "\n",
    "    def __getitem__(self, index: int) -> Tuple[torch.Tensor, torch.Tensor]:\n",
    "        \"\"\"\n",
    "        Get item from self.dataset at the specified index.\n",
    "        Returns (annotation, image), where annotation is a tuple (index, class_index)\n",
    "        and image a preprocessed image in network shape\n",
    "\n",
    "        :param index: Index of dataset item to get\n",
    "        :returns: (image, label)\n",
    "        \"\"\"\n",
    "        image, label = self.data[index]\n",
    "        image = torch.as_tensor(image, dtype=torch.float)\n",
    "        label = torch.as_tensor(label, dtype=torch.float)\n",
    "        return image, label"
   ]
  },
  {
   "cell_type": "markdown",
   "id": "a32c94bc-d36d-4771-bc5b-eb1cbea6c33b",
   "metadata": {},
   "source": [
    "#### PyTorch Lightning DataModule\n",
    "\n",
    "A [Lightning DataModule]( https://pytorch-lightning.readthedocs.io/en/stable/extensions/datamodules.html) defines dataloaders and connects the Lightning Module to the Dataset. "
   ]
  },
  {
   "cell_type": "code",
   "execution_count": 3,
   "id": "bc2e9fa6-3ec8-47b4-9c52-b36361e02753",
   "metadata": {
    "tags": []
   },
   "outputs": [],
   "source": [
    "class DataModule(pl.LightningDataModule):\n",
    "    def __init__(self, medmnist_dataset: str, batch_size: int):\n",
    "        \"\"\"\n",
    "        DataModule for MedMNIST Dataset\n",
    "\n",
    "        :param medmnist_dataset: MedMNIST dataset name. Example: breastmnist\n",
    "        :param batch_size: batch size\n",
    "        \"\"\"\n",
    "        super().__init__()\n",
    "        self.medmnist_dataset = medmnist_dataset\n",
    "        self.batch_size = batch_size\n",
    "\n",
    "    def setup(self, stage=None):\n",
    "        random.seed(1.414213)\n",
    "\n",
    "        self.dataset_train = MedMNISTDataset(self.medmnist_dataset, \"train\")\n",
    "        self.dataset_val = MedMNISTDataset(self.medmnist_dataset, \"val\")\n",
    "        self.dataset_test = MedMNISTDataset(self.medmnist_dataset, \"test\")\n",
    "\n",
    "        print(f\"Setup train dataset: {len(self.dataset_train)} items\")\n",
    "        print(f\"Setup val dataset: {len(self.dataset_val)} items\")\n",
    "        print(f\"Setup test dataset: {len(self.dataset_test)} items\")\n",
    "\n",
    "        assert len(self.dataset_train) > 0, \"Train dataset is empty.\"\n",
    "        assert len(self.dataset_val) > 0, \"Val dataset is empty\"\n",
    "        assert len(self.dataset_test) > 0, \"Test dataset is empty\"\n",
    "\n",
    "    def train_dataloader(self):\n",
    "        return TorchDataLoader(\n",
    "            self.dataset_train,\n",
    "            batch_size=self.batch_size,\n",
    "            shuffle=True,\n",
    "            num_workers=0,\n",
    "            pin_memory=torch.cuda.is_available(),\n",
    "            drop_last=True,\n",
    "        )\n",
    "\n",
    "    def val_dataloader(self):\n",
    "        return TorchDataLoader(\n",
    "            self.dataset_val,\n",
    "            batch_size=self.batch_size,\n",
    "            num_workers=0,\n",
    "            shuffle=False,\n",
    "            pin_memory=torch.cuda.is_available(),\n",
    "            drop_last=False,\n",
    "        )\n",
    "\n",
    "    def test_dataloader(self):\n",
    "        return TorchDataLoader(\n",
    "            self.dataset_test,\n",
    "            batch_size=self.batch_size,\n",
    "            num_workers=0,\n",
    "            shuffle=False,\n",
    "            pin_memory=torch.cuda.is_available(),\n",
    "            drop_last=False,\n",
    "        )"
   ]
  },
  {
   "cell_type": "markdown",
   "id": "5d59d94f-8e66-450c-8b43-d51daa68c098",
   "metadata": {
    "tags": []
   },
   "source": [
    "### Model\n",
    "\n",
    "We create a PyTorch Lightning [LightningModule](https://pytorch-lightning.readthedocs.io/en/stable/common/lightning_module.html) to train a [Monai network](https://docs.monai.io/en/latest/networks.html#nets)\n",
    "\n",
    "For binary classification models we use Binary Cross Entropy Loss, for multiclass segmentation Cross Entropy Loss. For optimizer, we use the Adam Optimizer with the default learning rate of 0.001. The evaluation metric is accuracy, implemented with the Accuracy class defined in the previous cell."
   ]
  },
  {
   "cell_type": "code",
   "execution_count": 7,
   "id": "247110f4-9b80-4fdb-bccc-2448e4d0e833",
   "metadata": {
    "tags": []
   },
   "outputs": [],
   "source": [
    "class MonaiModel(pl.LightningModule):\n",
    "    def __init__(self, monai_model: str, config: Dict):\n",
    "        \"\"\"\n",
    "        PyTorch Lightning Module for a given MONAI classification model.\n",
    "\n",
    "        :param monai_model: MONAI model name. For example, DenseNet, SEResNet50\n",
    "        :param config: Dictionary with configuration values to pass to MONAI model initialization.\n",
    "                       Example:  {\"in_channels\": 1, \"out_channels\": 1, spatial_dims\": 2}\n",
    "                       Dictionary keys that are not supported model parameters are discarded.\n",
    "        \"\"\"\n",
    "        super().__init__()\n",
    "        model = getattr(nets, monai_model)\n",
    "        model_config = config.copy()\n",
    "        self.num_classes = model_config[\"num_classes\"]\n",
    "\n",
    "        # For binary classification (2 classes, e.g. normal/abnormal) the model is configured\n",
    "        # with 1 class that can either be 0 or 1.\n",
    "        if model_config[\"num_classes\"] == 2:\n",
    "            model_config[\"num_classes\"] = 1\n",
    "\n",
    "        for parameter in model_config.copy():\n",
    "            if (\n",
    "                parameter not in inspect.signature(model).parameters\n",
    "                and parameter not in inspect.signature(model.__bases__[0]).parameters\n",
    "            ):\n",
    "                model_config.pop(parameter)\n",
    "        self._model = model(**model_config)\n",
    "        self.save_hyperparameters()\n",
    "\n",
    "        # https://docs.monai.io/en/latest/highlights.html?deterministic-training-for-reproducibility\n",
    "        monai.utils.set_determinism(seed=2.71828, additional_settings=None)\n",
    "        self.loss_function = (\n",
    "            torch.nn.CrossEntropyLoss()\n",
    "            if self.num_classes > 2\n",
    "            else torch.nn.BCEWithLogitsLoss()\n",
    "        )\n",
    "        self.metric = ConfusionMatrixMetric(metric_name=\"hit_rate\")\n",
    "        self.best_val_accuracy = 0\n",
    "        self.best_val_epoch = 0\n",
    "\n",
    "        print(\n",
    "            f\"Initialized {monai_model} with settings: {model_config} {self.num_classes} classes\"\n",
    "        )\n",
    "\n",
    "    def forward(self, x: torch.Tensor) -> torch.Tensor:\n",
    "        return self._model(x)\n",
    "\n",
    "    def forward_batch(self, batch: Tuple[torch.Tensor, torch.Tensor]) -> torch.Tensor:\n",
    "        \"\"\"\n",
    "        Propagate images from batch through the network\n",
    "        `batch` is expected to be (images, labels)\n",
    "\n",
    "        :return: raw network output in layout expected by loss function\n",
    "        \"\"\"\n",
    "        images, _ = batch\n",
    "        images = torch.as_tensor(images, dtype=torch.float)\n",
    "        output = self.forward(images)\n",
    "        if isinstance(self.loss_function, torch.nn.BCEWithLogitsLoss):\n",
    "            if len(output.shape) == 1:\n",
    "                output = output.unsqueeze(-1)\n",
    "        return output\n",
    "\n",
    "    def process_labels(self, batch: Tuple[torch.Tensor, torch.Tensor]) -> torch.Tensor:\n",
    "        \"\"\"\n",
    "        Return labels in format expected by the loss function (expected to be\n",
    "        BCEWithLogitsLoss for binary classification and CrossEntropyLoss for multiclass\n",
    "        `batch` is expected to be (images, labels)\n",
    "\n",
    "        :return: labels in correct datatype and layout\n",
    "        \"\"\"\n",
    "        _, annotation = batch\n",
    "        labels = torch.as_tensor(annotation, dtype=torch.float)\n",
    "        if isinstance(self.loss_function, torch.nn.BCEWithLogitsLoss):\n",
    "            labels = labels.float()\n",
    "        else:\n",
    "            labels = labels.long().squeeze(dim=1)\n",
    "        return labels\n",
    "\n",
    "    @torch.no_grad()\n",
    "    def predict_one(self, x: torch.Tensor) -> torch.Tensor:\n",
    "        \"\"\"\n",
    "        Propage one image through the network and return the result as a class index\n",
    "        Uses sigmoid for binary classification and argmax for multiclass\n",
    "\n",
    "        :return prediction as class index integer\n",
    "        \"\"\"\n",
    "        output = self.forward(x)\n",
    "        if self.num_classes <= 2:\n",
    "            predict = torch.sigmoid(output).round().byte().squeeze()\n",
    "        else:\n",
    "            predict = torch.argmax(output, axis=1).byte().squeeze()\n",
    "        return predict\n",
    "\n",
    "    def configure_optimizers(self):\n",
    "        optimizer = torch.optim.Adam(self._model.parameters())\n",
    "        return optimizer\n",
    "\n",
    "    def training_step(\n",
    "        self, batch: Tuple[torch.Tensor, torch.Tensor], batch_idx: int\n",
    "    ) -> torch.Tensor:\n",
    "        output = self.forward_batch(batch)\n",
    "        labels = self.process_labels(batch)\n",
    "        loss = self.loss_function(input=output, target=labels)\n",
    "        self.log(\"train_loss\", loss.item())\n",
    "        return loss\n",
    "\n",
    "    def validation_step(\n",
    "        self, batch: Tuple[torch.Tensor, torch.Tensor], batch_idx: int\n",
    "    ) -> Dict:\n",
    "        stage = self.trainer.state.stage\n",
    "        output = self.forward_batch(batch)\n",
    "        labels = self.process_labels(batch)\n",
    "        loss = self.loss_function(input=output, target=labels)\n",
    "\n",
    "        # Transform output and labels to format expected by MONAI metric\n",
    "        if len(labels.shape) == 1:\n",
    "            labels.unsqueeze_(-1)\n",
    "        is_binary_classification = self.num_classes <= 2\n",
    "        output_transforms = Compose(\n",
    "            [\n",
    "                ToTensor(),\n",
    "                Activations(sigmoid=is_binary_classification),\n",
    "                AsDiscrete(threshold=0.5 if is_binary_classification else None),\n",
    "                AsDiscrete(\n",
    "                    to_onehot=self.num_classes, argmax=not is_binary_classification\n",
    "                ),\n",
    "            ]\n",
    "        )\n",
    "        target_transforms = Compose(\n",
    "            [ToTensor(), AsDiscrete(to_onehot=self.num_classes)]\n",
    "        )\n",
    "\n",
    "        onehot_output = [output_transforms(item.cpu()) for item in output]\n",
    "        onehot_target = [target_transforms(item.cpu()) for item in labels]\n",
    "\n",
    "        # Update metric\n",
    "        self.metric(onehot_output, onehot_target)\n",
    "\n",
    "        self.log(f\"{stage}_loss\", loss)\n",
    "        return {f\"{stage}_loss\": loss, \"num_items\": len(output)}\n",
    "\n",
    "    def validation_epoch_end(self, outputs: Sequence):\n",
    "        \"\"\"\n",
    "        Compute and log mean loss and accuracy over the epoch\n",
    "        \"\"\"\n",
    "        stage = self.trainer.state.stage\n",
    "        loss, num_items = 0, 0\n",
    "        for output in outputs:\n",
    "            loss += output[f\"{stage}_loss\"].sum().item()\n",
    "            num_items += output[\"num_items\"]\n",
    "        mean_accuracy = self.metric.aggregate()[0].item()\n",
    "        self.metric.reset()\n",
    "\n",
    "        mean_loss = torch.tensor(loss / num_items)\n",
    "        self.logger.experiment.add_scalar(\n",
    "            f\"{stage}/loss\", mean_loss, self.current_epoch\n",
    "        )\n",
    "        self.logger.experiment.add_scalar(\n",
    "            f\"{stage}/accuracy\",\n",
    "            mean_accuracy,\n",
    "            self.current_epoch,\n",
    "        )\n",
    "        self.log(f\"{stage}_accuracy\", mean_accuracy, prog_bar=True, logger=False)\n",
    "        if stage == \"validate\":\n",
    "            if mean_accuracy > self.best_val_accuracy:\n",
    "                self.best_val_accuracy = mean_accuracy\n",
    "                self.best_val_epoch = self.current_epoch\n",
    "\n",
    "    def test_step(self, batch, batch_idx):\n",
    "        return self.validation_step(batch, batch_idx)\n",
    "\n",
    "    def test_epoch_end(self, outputs):\n",
    "        return self.validation_epoch_end(outputs)"
   ]
  },
  {
   "cell_type": "markdown",
   "id": "3039b529-d05c-4df0-844f-86adb16234f0",
   "metadata": {
    "tags": []
   },
   "source": [
    "## Model and Dataset Configuration\n",
    "\n",
    "Running the next cell shows the supported MONAI models with number of trainable parameters and MedMNIST datasets with number of labels, and number of items in the train, validation and test set.\n",
    "\n",
    "In the cell after that, specify the model and dataset to use in this notebook\n",
    "\n",
    "For demo purposes, we define a `sample_config` with default values for all networks. Not all networks support all parameters; unsupported parameters will be ignored."
   ]
  },
  {
   "cell_type": "code",
   "execution_count": 8,
   "id": "577966ea-fdc8-4050-ae22-bd6b16ad765f",
   "metadata": {
    "tags": []
   },
   "outputs": [
    {
     "name": "stdout",
     "output_type": "stream",
     "text": [
      "Supported models: ['DenseNet', 'SENet154', 'SEResNet50', 'SEResNext50']\n",
      "Initialized DenseNet with settings: {'in_channels': 1, 'out_channels': 1, 'spatial_dims': 2, 'block_config': [6, 12, 8]} 2 classes\n",
      "Trainable parameters: 2.10 M\n",
      "Initialized SENet154 with settings: {'in_channels': 1, 'num_classes': 1, 'spatial_dims': 2} 2 classes\n",
      "Trainable parameters: 113.04 M\n",
      "Initialized SEResNet50 with settings: {'in_channels': 1, 'num_classes': 1, 'spatial_dims': 2} 2 classes\n",
      "Trainable parameters: 26.03 M\n",
      "Initialized SEResNext50 with settings: {'in_channels': 1, 'num_classes': 1, 'spatial_dims': 2} 2 classes\n",
      "Trainable parameters: 25.51 M\n",
      "\n",
      "Supported datasets:\n",
      "pathmnist multi-class 9 labels, {'train': 89996, 'val': 10004, 'test': 7180}\n",
      "dermamnist multi-class 7 labels, {'train': 7007, 'val': 1003, 'test': 2005}\n",
      "octmnist multi-class 4 labels, {'train': 97477, 'val': 10832, 'test': 1000}\n",
      "pneumoniamnist binary-class 2 labels, {'train': 4708, 'val': 524, 'test': 624}\n",
      "breastmnist binary-class 2 labels, {'train': 546, 'val': 78, 'test': 156}\n",
      "bloodmnist multi-class 8 labels, {'train': 11959, 'val': 1712, 'test': 3421}\n",
      "tissuemnist multi-class 8 labels, {'train': 165466, 'val': 23640, 'test': 47280}\n",
      "organamnist multi-class 11 labels, {'train': 34581, 'val': 6491, 'test': 17778}\n",
      "organcmnist multi-class 11 labels, {'train': 13000, 'val': 2392, 'test': 8268}\n",
      "organsmnist multi-class 11 labels, {'train': 13940, 'val': 2452, 'test': 8829}\n",
      "organmnist3d multi-class 11 labels, {'train': 972, 'val': 161, 'test': 610}\n",
      "nodulemnist3d binary-class 2 labels, {'train': 1158, 'val': 165, 'test': 526}\n",
      "adrenalmnist3d binary-class 2 labels, {'train': 1188, 'val': 98, 'test': 298}\n",
      "fracturemnist3d multi-class 3 labels, {'train': 1027, 'val': 103, 'test': 240}\n",
      "vesselmnist3d binary-class 2 labels, {'train': 1335, 'val': 192, 'test': 382}\n",
      "synapsemnist3d binary-class 2 labels, {'train': 1230, 'val': 177, 'test': 352}\n"
     ]
    }
   ],
   "source": [
    "sample_config = {\n",
    "    \"in_channels\": 1,\n",
    "    \"out_channels\": 1,\n",
    "    \"num_classes\": 2,\n",
    "    \"spatial_dims\": 2,\n",
    "    \"block_config\": [6, 12, 8],\n",
    "}\n",
    "\n",
    "supported_models = [\"DenseNet\", \"SENet154\", \"SEResNet50\", \"SEResNext50\"]\n",
    "print(f\"Supported models: {supported_models}\")\n",
    "for model_name in supported_models:\n",
    "    model = MonaiModel(model_name, sample_config)\n",
    "    param_size = summarize(model).trainable_parameters / 1000 / 1000\n",
    "    print(f\"Trainable parameters: {param_size:.2f} M\")\n",
    "    del model\n",
    "print()\n",
    "\n",
    "supported_datasets = [\n",
    "    (ds_name)\n",
    "    for (ds_name, ds_info) in medmnist.INFO.items()\n",
    "    if ds_info[\"task\"] in [\"multi-class\", \"binary-class\"]\n",
    "]\n",
    "print(\"Supported datasets:\")\n",
    "for key, value in medmnist.INFO.items():\n",
    "    if key in supported_datasets:\n",
    "        print(key, value[\"task\"], f\"{len(value['label'])} labels, {value['n_samples']}\")"
   ]
  },
  {
   "cell_type": "markdown",
   "id": "397a3a54-8552-4693-aa67-fa482d36905b",
   "metadata": {},
   "source": [
    "<div class=\"alert alert-block alert-info\">Specify the MedMNIST dataset and MONAI model to use. SENet154 is a large model which will take a long time to train. For training on CPU, DenseNet is recommended, in combination with a small dataset.</div>"
   ]
  },
  {
   "cell_type": "code",
   "execution_count": 142,
   "id": "f1239da3-7e1e-43ca-ab4e-1b9883f8ef3b",
   "metadata": {
    "tags": [
     "parameters"
    ]
   },
   "outputs": [],
   "source": [
    "medmnist_dataset = \"bloodmnist\"\n",
    "monai_model = \"DenseNet\"\n",
    "\n",
    "assert medmnist_dataset in supported_datasets\n",
    "assert getattr(nets, monai_model)"
   ]
  },
  {
   "cell_type": "markdown",
   "id": "ce54f55e-d8ee-497e-ad87-7b70b57607a5",
   "metadata": {},
   "source": [
    "The input arguments for the MONAI model are taken from the dataset information. For example, the `spatial_dims` argument to a MONAI model is set to the `num_dims` value of the MedMNIST dataset. \n"
   ]
  },
  {
   "cell_type": "code",
   "execution_count": 143,
   "id": "4584a3a1-e589-4b92-8761-feb4856c1d3c",
   "metadata": {
    "tags": []
   },
   "outputs": [
    {
     "name": "stdout",
     "output_type": "stream",
     "text": [
      "Setup bloodmnist train, 3 channels, 8 classes\n",
      "Using downloaded and verified file: /home/helena/.medmnist/bloodmnist.npz\n",
      "Setup bloodmnist val, 3 channels, 8 classes\n",
      "Using downloaded and verified file: /home/helena/.medmnist/bloodmnist.npz\n",
      "Setup bloodmnist test, 3 channels, 8 classes\n",
      "Using downloaded and verified file: /home/helena/.medmnist/bloodmnist.npz\n",
      "Setup train dataset: 11959 items\n",
      "Setup val dataset: 1712 items\n",
      "Setup test dataset: 3421 items\n",
      "default_config: {'in_channels': 3, 'out_channels': 8, 'num_classes': 8, 'spatial_dims': 2, 'block_config': [6, 12, 8]}\n"
     ]
    }
   ],
   "source": [
    "data = DataModule(batch_size=19, medmnist_dataset=medmnist_dataset)\n",
    "data.setup()\n",
    "out_channels = (\n",
    "    data.dataset_train.num_classes if data.dataset_train.num_classes > 2 else 1\n",
    ")\n",
    "\n",
    "# Set default values for MONAI models, based on the chosen medmnist_dataset.\n",
    "# Not all models use all these parameters. Unused parameters are discarded in the MonaiModel.\n",
    "# This makes it easier to test multiple models without creating custom configurations\n",
    "\n",
    "default_config = {\n",
    "    \"in_channels\": data.dataset_train.num_channels,\n",
    "    \"out_channels\": out_channels,\n",
    "    \"num_classes\": data.dataset_train.num_classes,\n",
    "    \"spatial_dims\": data.dataset_train.num_dims,\n",
    "    \"block_config\": [6, 12, 8],\n",
    "}\n",
    "print(\"default_config:\", default_config)"
   ]
  },
  {
   "cell_type": "markdown",
   "id": "5ee80ca6-296b-4ab6-9e32-426aef3e96e1",
   "metadata": {},
   "source": [
    "### Dataset Info and Visualization\n",
    "\n",
    "Show MedMNIST information about the dataset, including description, labels and number of samples."
   ]
  },
  {
   "cell_type": "code",
   "execution_count": 144,
   "id": "524723fb-6c35-4ab6-9932-56d308503e9d",
   "metadata": {
    "tags": []
   },
   "outputs": [
    {
     "data": {
      "text/plain": [
       "{'python_class': 'BloodMNIST',\n",
       " 'description': 'The BloodMNIST is based on a dataset of individual normal cells, captured from individuals without infection, hematologic or oncologic disease and free of any pharmacologic treatment at the moment of blood collection. It contains a total of 17,092 images and is organized into 8 classes. We split the source dataset with a ratio of 7:1:2 into training, validation and test set. The source images with resolution 3×360×363 pixels are center-cropped into 3×200×200, and then resized into 3×28×28.',\n",
       " 'url': 'https://zenodo.org/record/5208230/files/bloodmnist.npz?download=1',\n",
       " 'MD5': '7053d0359d879ad8a5505303e11de1dc',\n",
       " 'task': 'multi-class',\n",
       " 'label': {'0': 'basophil',\n",
       "  '1': 'eosinophil',\n",
       "  '2': 'erythroblast',\n",
       "  '3': 'ig',\n",
       "  '4': 'lymphocyte',\n",
       "  '5': 'monocyte',\n",
       "  '6': 'neutrophil',\n",
       "  '7': 'platelet'},\n",
       " 'n_channels': 3,\n",
       " 'n_samples': {'train': 11959, 'val': 1712, 'test': 3421},\n",
       " 'license': 'CC BY 4.0'}"
      ]
     },
     "execution_count": 144,
     "metadata": {},
     "output_type": "execute_result"
    }
   ],
   "source": [
    "medmnist.INFO[medmnist_dataset]"
   ]
  },
  {
   "cell_type": "markdown",
   "id": "f9d55737-e915-4e5d-9a03-8d390674e583",
   "metadata": {},
   "source": [
    "Show a random sample of 10 images to verify (as much as that is possible with images of this size) that the dataset looks correct. For 3D images, the middle slice of the image is displayed. To see a different subset, run the cell again."
   ]
  },
  {
   "cell_type": "code",
   "execution_count": 145,
   "id": "c74ebea1-465b-4708-855f-72307b3a65ad",
   "metadata": {
    "tags": [
     "hide"
    ]
   },
   "outputs": [
    {
     "data": {
      "image/png": "[encoded data removed]",
      "text/plain": [
       "<Figure size 1440x432 with 10 Axes>"
      ]
     },
     "metadata": {
      "needs_background": "light"
     },
     "output_type": "display_data"
    }
   ],
   "source": [
    "indices = random.sample(range(len(data.dataset_train)), 10)\n",
    "data_subset = itemgetter(*indices)(data.dataset_train)\n",
    "\n",
    "fig, axs = plt.subplots(nrows=2, ncols=5, figsize=(20, 6))\n",
    "plt.suptitle(medmnist_dataset)\n",
    "for i, ax in enumerate(axs.ravel()):\n",
    "    image, annotation = data_subset[i]\n",
    "    if len(image.shape) == 3:\n",
    "        image = image.permute(1, 2, 0).numpy().astype(np.uint8)\n",
    "    elif len(image.shape) == 4:\n",
    "        image = image[0][14]\n",
    "    label = data.dataset_train.labels[str(annotation.short().item())]\n",
    "    ax.imshow(image, cmap=\"gray\")\n",
    "    ax.set_title(label)"
   ]
  },
  {
   "cell_type": "markdown",
   "id": "10463e82-dab2-43ae-8fee-1abf498f2a3e",
   "metadata": {},
   "source": [
    "### Show Model Information"
   ]
  },
  {
   "cell_type": "code",
   "execution_count": 146,
   "id": "fed134a0-a508-4d95-b7b8-701cf6b38a46",
   "metadata": {
    "tags": []
   },
   "outputs": [
    {
     "name": "stdout",
     "output_type": "stream",
     "text": [
      "Initialized DenseNet with settings: {'in_channels': 3, 'out_channels': 8, 'spatial_dims': 2, 'block_config': [6, 12, 8]} 8 classes\n"
     ]
    },
    {
     "data": {
      "text/plain": [
       "  | Name          | Type             | Params\n",
       "---------------------------------------------------\n",
       "0 | _model        | DenseNet         | 2.1 M \n",
       "1 | loss_function | CrossEntropyLoss | 0     \n",
       "---------------------------------------------------\n",
       "2.1 M     Trainable params\n",
       "0         Non-trainable params\n",
       "2.1 M     Total params\n",
       "8.458     Total estimated model params size (MB)"
      ]
     },
     "execution_count": 146,
     "metadata": {},
     "output_type": "execute_result"
    }
   ],
   "source": [
    "monai_lightning_model = MonaiModel(monai_model=monai_model, config=default_config)\n",
    "summarize(monai_lightning_model)"
   ]
  },
  {
   "cell_type": "markdown",
   "id": "903f7f9c-ea9c-48cb-b3c9-a172caa33736",
   "metadata": {
    "tags": []
   },
   "source": [
    "## Start Training\n",
    "\n",
    "Create a PyTorch Lightning [Trainer](https://pytorch-lightning.readthedocs.io/en/stable/common/trainer.html) and call the `.fit()` method to start training. Set `USE_CUDA` to True to enable training on CUDA-enabled GPUs and adjust the other settings as needed. The settings below train the model for 5 epochs, log to TensorBoard, and save the best 3 checkpoints, where \"best\" is defined as highest accuracy. On CUDA, 16 bit training is enabled. This is not supported on CPU. `limit_train_batches` can be useful for large datasets. At the end of training, the total training duration will be displayed.\n",
    "\n",
    "See the [documentation](https://pytorch-lightning.readthedocs.io/en/stable/common/trainer.html) for information on all parameters and settings.\n",
    "\n",
    "Uncomment the next cell to show a TensorBoard dashboard in the notebook. This will initially show no data. Click on the refresh button in the TensorBoard cell to show data during and after training.\n",
    "\n",
    "To cancel training, click the stop button in the Jupyter toolbar at the top of the notebook. That will stop gracefully: the best checkpoint until that point is saved."
   ]
  },
  {
   "cell_type": "code",
   "execution_count": 147,
   "id": "d273affe-61db-4b70-9c97-d6b8200dbeeb",
   "metadata": {
    "tags": []
   },
   "outputs": [],
   "source": [
    "# %load_ext tensorboard\n",
    "# %tensorboard --logdir tb_logs --bind_all"
   ]
  },
  {
   "cell_type": "code",
   "execution_count": 149,
   "id": "8c8029eb-7f08-4c50-8df1-b279ae8463b7",
   "metadata": {
    "tags": []
   },
   "outputs": [
    {
     "name": "stderr",
     "output_type": "stream",
     "text": [
      "GPU available: False, used: False\n",
      "TPU available: False, using: 0 TPU cores\n",
      "IPU available: False, using: 0 IPUs\n",
      "\n",
      "  | Name          | Type             | Params\n",
      "---------------------------------------------------\n",
      "0 | _model        | DenseNet         | 2.1 M \n",
      "1 | loss_function | CrossEntropyLoss | 0     \n",
      "---------------------------------------------------\n",
      "2.1 M     Trainable params\n",
      "0         Non-trainable params\n",
      "2.1 M     Total params\n",
      "8.458     Total estimated model params size (MB)\n"
     ]
    },
    {
     "data": {
      "application/vnd.jupyter.widget-view+json": {
       "model_id": "",
       "version_major": 2,
       "version_minor": 0
      },
      "text/plain": [
       "Validation sanity check: 0it [00:00, ?it/s]"
      ]
     },
     "metadata": {},
     "output_type": "display_data"
    },
    {
     "data": {
      "application/vnd.jupyter.widget-view+json": {
       "model_id": "cf84259eea424cd6bdbc2870da2fbe19",
       "version_major": 2,
       "version_minor": 0
      },
      "text/plain": [
       "Training: 0it [00:00, ?it/s]"
      ]
     },
     "metadata": {},
     "output_type": "display_data"
    },
    {
     "data": {
      "application/vnd.jupyter.widget-view+json": {
       "model_id": "",
       "version_major": 2,
       "version_minor": 0
      },
      "text/plain": [
       "Validating: 0it [00:00, ?it/s]"
      ]
     },
     "metadata": {},
     "output_type": "display_data"
    },
    {
     "data": {
      "application/vnd.jupyter.widget-view+json": {
       "model_id": "",
       "version_major": 2,
       "version_minor": 0
      },
      "text/plain": [
       "Validating: 0it [00:00, ?it/s]"
      ]
     },
     "metadata": {},
     "output_type": "display_data"
    },
    {
     "data": {
      "application/vnd.jupyter.widget-view+json": {
       "model_id": "",
       "version_major": 2,
       "version_minor": 0
      },
      "text/plain": [
       "Validating: 0it [00:00, ?it/s]"
      ]
     },
     "metadata": {},
     "output_type": "display_data"
    },
    {
     "data": {
      "application/vnd.jupyter.widget-view+json": {
       "model_id": "",
       "version_major": 2,
       "version_minor": 0
      },
      "text/plain": [
       "Validating: 0it [00:00, ?it/s]"
      ]
     },
     "metadata": {},
     "output_type": "display_data"
    },
    {
     "name": "stdout",
     "output_type": "stream",
     "text": [
      "Training duration: 00:03:09\n"
     ]
    }
   ],
   "source": [
    "logger = TensorBoardLogger(\"tb_logs\", name=f\"{medmnist_dataset}_{monai_model.lower()}\")\n",
    "checkpoint_callback = ModelCheckpoint(\n",
    "    monitor=\"validate_accuracy\", mode=\"max\", save_top_k=1\n",
    ")\n",
    "# Ignore PyTorch Lightning warnings about possible improvements\n",
    "warnings.filterwarnings(\n",
    "    \"ignore\", \".*increasing the value of the `num_workers` argument*\"\n",
    ")\n",
    "warnings.filterwarnings(\"ignore\", \".*smaller than the logging interval*\")\n",
    "warnings.filterwarnings(\"ignore\", \".*has already been called*\")\n",
    "\n",
    "limit_train_batches = 1.0\n",
    "limit_val_batches = 1.0\n",
    "\n",
    "# For demonstration purposes, we limit the number of dataset items for large datasets to reduce\n",
    "# training time. This may impact accuracy.\n",
    "if len(data.train_dataloader().dataset) > 6000:\n",
    "    limit_train_batches = 1 / (len(data.train_dataloader().dataset) / 6000)\n",
    "if len(data.val_dataloader().dataset) > 5000:\n",
    "    limit_val_batches = 0.5\n",
    "\n",
    "USE_CUDA = torch.cuda.is_available()\n",
    "trainer = pl.Trainer(\n",
    "    max_epochs=5,\n",
    "    gpus=1 if USE_CUDA else 0,\n",
    "    logger=logger,\n",
    "    precision=16 if USE_CUDA else 32,\n",
    "    limit_train_batches=limit_train_batches,\n",
    "    limit_val_batches=limit_val_batches,\n",
    "    callbacks=[checkpoint_callback],\n",
    "    fast_dev_run=False,  # set to True to quickly test the Lightning model\n",
    ")\n",
    "\n",
    "start = datetime.datetime.now()\n",
    "try:\n",
    "    trainer.fit(model=monai_lightning_model, datamodule=data)\n",
    "finally:\n",
    "    end = datetime.datetime.now()\n",
    "    delta = dateutil.relativedelta.relativedelta(end, start)\n",
    "    print(\n",
    "        f\"Training duration: {delta.hours:02d}:{delta.minutes:02d}:{delta.seconds:02d}\"\n",
    "    )"
   ]
  },
  {
   "cell_type": "markdown",
   "id": "0af9ace0-7d7c-47f1-9a88-0117f27ba8a3",
   "metadata": {
    "tags": []
   },
   "source": [
    "### Evaluate Trained Model on Validation and Test Set"
   ]
  },
  {
   "cell_type": "code",
   "execution_count": 150,
   "id": "0c52ed76-79e1-48a8-9355-b4c3eb06ae5c",
   "metadata": {
    "tags": []
   },
   "outputs": [
    {
     "name": "stderr",
     "output_type": "stream",
     "text": [
      "Restoring states from the checkpoint path at tb_logs/bloodmnist_densenet/version_1/checkpoints/epoch=3-step=1259.ckpt\n",
      "Loaded model weights from checkpoint at tb_logs/bloodmnist_densenet/version_1/checkpoints/epoch=3-step=1259.ckpt\n"
     ]
    },
    {
     "data": {
      "application/vnd.jupyter.widget-view+json": {
       "model_id": "",
       "version_major": 2,
       "version_minor": 0
      },
      "text/plain": [
       "Validating: 0it [00:00, ?it/s]"
      ]
     },
     "metadata": {},
     "output_type": "display_data"
    },
    {
     "name": "stderr",
     "output_type": "stream",
     "text": [
      "Restoring states from the checkpoint path at tb_logs/bloodmnist_densenet/version_1/checkpoints/epoch=3-step=1259.ckpt\n",
      "Loaded model weights from checkpoint at tb_logs/bloodmnist_densenet/version_1/checkpoints/epoch=3-step=1259.ckpt\n"
     ]
    },
    {
     "name": "stdout",
     "output_type": "stream",
     "text": [
      "--------------------------------------------------------------------------------\n",
      "DATALOADER:0 VALIDATE RESULTS\n",
      "{'validate_accuracy': 0.8317757248878479, 'validate_loss': 0.4426080286502838}\n",
      "--------------------------------------------------------------------------------\n"
     ]
    },
    {
     "data": {
      "application/vnd.jupyter.widget-view+json": {
       "model_id": "198bf599779244c6b74e70977ee4abac",
       "version_major": 2,
       "version_minor": 0
      },
      "text/plain": [
       "Testing: 0it [00:00, ?it/s]"
      ]
     },
     "metadata": {},
     "output_type": "display_data"
    },
    {
     "name": "stdout",
     "output_type": "stream",
     "text": [
      "--------------------------------------------------------------------------------\n",
      "DATALOADER:0 TEST RESULTS\n",
      "{'test_accuracy': 0.81993567943573, 'test_loss': 0.4642804265022278}\n",
      "--------------------------------------------------------------------------------\n"
     ]
    }
   ],
   "source": [
    "torch_val_accuracy = trainer.validate(ckpt_path=\"best\", dataloaders=data)\n",
    "torch_test_accuracy = trainer.test(ckpt_path=\"best\", dataloaders=data)"
   ]
  },
  {
   "cell_type": "markdown",
   "id": "5a8b3f29-1890-4509-9fc1-74aa33aa3f73",
   "metadata": {},
   "source": [
    "Visualize images from the test set and print actual and predicted labels"
   ]
  },
  {
   "cell_type": "code",
   "execution_count": 151,
   "id": "2fda021e-a41b-42a0-82b4-ca2d9c6a8b56",
   "metadata": {
    "tags": []
   },
   "outputs": [
    {
     "data": {
      "image/png": "[encoded data removed]",
      "text/plain": [
       "<Figure size 1440x432 with 10 Axes>"
      ]
     },
     "metadata": {
      "needs_background": "light"
     },
     "output_type": "display_data"
    }
   ],
   "source": [
    "indices = random.sample(range(len(data.dataset_test)), 10)\n",
    "data_subset = itemgetter(*indices)(data.dataset_test)\n",
    "\n",
    "fig, axs = plt.subplots(nrows=2, ncols=5, figsize=(20, 6))\n",
    "plt.suptitle(f\"{monai_model}, {medmnist_dataset} labels/predictions\")\n",
    "monai_lightning_model.eval()\n",
    "\n",
    "for i, ax in enumerate(axs.ravel()):\n",
    "    image, annotation = data_subset[i]\n",
    "    prediction = monai_lightning_model.predict_one(image.unsqueeze(0)).item()\n",
    "    if len(image.shape) == 3:\n",
    "        image = image.permute(1, 2, 0).numpy().astype(np.uint8)\n",
    "    elif len(image.shape) == 4:\n",
    "        image = image[0][14]\n",
    "    target_label = f\"label: {data.dataset_train.labels[str(annotation.short().item())]}\"\n",
    "    predicted_label = f\"prediction: {data.dataset_train.labels[str(prediction)]}\"\n",
    "\n",
    "    ax.imshow(image, cmap=\"gray\")\n",
    "    ax.set_title(f\"{target_label}\\n{predicted_label}\")\n",
    "    ax.axis(\"off\")"
   ]
  },
  {
   "cell_type": "markdown",
   "id": "688cc564-6745-41a2-89d8-26252eda4b34",
   "metadata": {
    "tags": []
   },
   "source": [
    "## Convert FP32 model to ONNX and IR\n",
    "\n",
    "Load the best checkpoint and export the model to ONNX."
   ]
  },
  {
   "cell_type": "code",
   "execution_count": 152,
   "id": "c92d666f-22cd-4382-aa19-c010f6b3afc9",
   "metadata": {
    "tags": []
   },
   "outputs": [
    {
     "name": "stdout",
     "output_type": "stream",
     "text": [
      "Initialized DenseNet with settings: {'in_channels': 3, 'out_channels': 8, 'spatial_dims': 2, 'block_config': [6, 12, 8]} 8 classes\n",
      "Exported ONNX model to nncf_models/DenseNet_bloodmnist_fp32.onnx\n",
      "Exported FP32 IR model to nncf_models/DenseNet_bloodmnist_fp32.xml\n"
     ]
    }
   ],
   "source": [
    "MODEL_DIR = Path(\"nncf_models\")\n",
    "MODEL_DIR.mkdir(exist_ok=True)\n",
    "onnx_path = MODEL_DIR / f\"{monai_model}_{medmnist_dataset}_fp32.onnx\"\n",
    "checkpoint_path = checkpoint_callback.best_model_path\n",
    "best_model = MonaiModel.load_from_checkpoint(checkpoint_path).cpu().eval()\n",
    "\n",
    "if data.dataset_train.num_dims == 3:\n",
    "    input_shape = [1, data.dataset_train.num_channels, 28, 28, 28]\n",
    "else:\n",
    "    input_shape = [1, data.dataset_train.num_channels, 28, 28]\n",
    "\n",
    "\n",
    "dummy_input = torch.randn(*input_shape)\n",
    "torch.onnx.export(best_model, dummy_input, onnx_path, opset_version=10)\n",
    "print(f\"Exported ONNX model to {onnx_path}\")\n",
    "\n",
    "# Convert ONNX model and export to OpenVINO IR\n",
    "fp_ir_path = onnx_path.with_suffix(\".xml\")\n",
    "IECore().read_network(onnx_path).serialize(str(fp_ir_path))\n",
    "print(f\"Exported FP32 IR model to {fp_ir_path}\")"
   ]
  },
  {
   "cell_type": "markdown",
   "id": "3d98752a-4583-4f51-a35a-f4f207982cbb",
   "metadata": {
    "tags": []
   },
   "source": [
    "## Quantize Model with NNCF\n",
    "\n",
    "Creating an [NNCF](https://github.com/openvinotoolkit/nncf) compressed model requires a configuration dictionary, a dataloader, and a model. We use the `best_model` loaded in the previous cell, and use the validation dataloader. "
   ]
  },
  {
   "cell_type": "code",
   "execution_count": 153,
   "id": "05d0236c-c9bc-4f37-ad97-b97cc840c7da",
   "metadata": {
    "tags": []
   },
   "outputs": [],
   "source": [
    "NNCF_OUTPUT_DIR = Path(\"output\")\n",
    "NNCF_OUTPUT_DIR.mkdir(exist_ok=True)\n",
    "input_shape = list(next(iter(data.val_dataloader()))[0].shape)\n",
    "input_shape[0] = 1\n",
    "set_log_level(logging.ERROR)  # Disables all NNCF info and warning messages\n",
    "nncf_config_dict = {\n",
    "    \"input_info\": {\"sample_size\": input_shape},\n",
    "    \"log_dir\": str(NNCF_OUTPUT_DIR),\n",
    "    \"compression\": {\n",
    "        \"algorithm\": \"quantization\",\n",
    "    },\n",
    "}\n",
    "nncf_config = NNCFConfig.from_dict(nncf_config_dict)\n",
    "nncf_config = register_default_init_args(nncf_config, data.val_dataloader())\n",
    "\n",
    "compression_ctrl, compressed_model = create_compressed_model(\n",
    "    best_model._model, nncf_config\n",
    ")\n",
    "del best_model"
   ]
  },
  {
   "cell_type": "markdown",
   "id": "1b2ba606-faff-441c-907c-34e019eef13f",
   "metadata": {},
   "source": [
    "### Export Quantized Model to ONNX and OpenVINO IR.\n",
    "\n",
    "The quantized model can be exported to ONNX with NNCF's `export_model` method. We then export to OpenVINO IR. The ONNX modelfile will have the same size as the PyTorch model file. The quantized IR model file will have a smaller size."
   ]
  },
  {
   "cell_type": "code",
   "execution_count": 154,
   "id": "f3161b98-eeb6-49b9-be4e-4cad3b40dad1",
   "metadata": {
    "tags": []
   },
   "outputs": [],
   "source": [
    "warnings.filterwarnings(\"ignore\", category=TracerWarning)\n",
    "warnings.filterwarnings(\"ignore\", category=UserWarning)\n",
    "\n",
    "int8_onnx_path = MODEL_DIR / f\"{monai_model}_{medmnist_dataset}_nncf.onnx\"\n",
    "compression_ctrl.export_model(int8_onnx_path)"
   ]
  },
  {
   "cell_type": "markdown",
   "id": "65a529f0-932c-4634-bff0-0081cd6b859f",
   "metadata": {
    "tags": []
   },
   "source": [
    "### Convert to OpenVINO IR\n",
    "\n",
    "We use Model Optimizer to convert the ONNX model to OpenVINO's Intermediate Representation (IR) format. This step reduces the file size of the model. \n",
    "\n",
    "In Jupyter we can call it with `! mo`, in a script we can use the subprocess module. We use subprocess here, to make it easy to convert this notebook to a script.\n",
    "\n",
    "For ONNX conversion, Model Optimizer only needs a path to an input model. We also specify an `output_dir` to save the model. Model Optimizer creates an .xml and .bin file, with the same base filename as the ONNX model. The .xml file contains information about the network topology, the .bin file contains weights and biases binary data. By default, weights and biases are stored as FP32. To convert them to FP16, set `--data_type` to FP16. This saves space (FP16 takes half as much space as FP32), and increases inference speed when using an Intel integrated GPU. \n",
    "\n",
    "Run `!mo --help` to see information about all Model Optimizer parameters"
   ]
  },
  {
   "cell_type": "code",
   "execution_count": 155,
   "id": "2562e42e-d6d8-4e7b-9af5-fcae1cf09fdb",
   "metadata": {
    "tags": []
   },
   "outputs": [
    {
     "name": "stdout",
     "output_type": "stream",
     "text": [
      "[ SUCCESS ] Generated IR version 10 model.\n",
      "[ SUCCESS ] XML file: /home/helena/code/openvino-monai/medmnist/nncf_models/DenseNet_bloodmnist_nncf.xml\n",
      "[ SUCCESS ] BIN file: /home/helena/code/openvino-monai/medmnist/nncf_models/DenseNet_bloodmnist_nncf.bin\n",
      "[ SUCCESS ] Total execution time: 20.73 seconds. \n",
      "[ SUCCESS ] Memory consumed: 129 MB. \n"
     ]
    }
   ],
   "source": [
    "mo_result = subprocess.run(\n",
    "    [\"mo\", \"--input_model\", int8_onnx_path, \"--output_dir\", MODEL_DIR],\n",
    "    check=False,\n",
    "    universal_newlines=True,\n",
    "    capture_output=True,\n",
    ")\n",
    "if mo_result.returncode == 0:\n",
    "    print(\n",
    "        \"\\n\".join([line for line in mo_result.stdout.split(\"\\n\") if \"SUCCESS\" in line])\n",
    "    )\n",
    "else:\n",
    "    mo_error = \"\\n\".join([line for line in mo_result.stderr.split(\"\\n\")])\n",
    "    raise RuntimeError(\n",
    "        f\"Model optimization failed with the following error:\\n{mo_error}\"\n",
    "    )"
   ]
  },
  {
   "cell_type": "markdown",
   "id": "f3ec8715-e068-483e-a786-4b353202dcf4",
   "metadata": {},
   "source": [
    "## Compare Size of FP32 and INT8 Models"
   ]
  },
  {
   "cell_type": "code",
   "execution_count": 156,
   "id": "ad59ec76-1e60-4d53-a827-4e7c5b0a20b6",
   "metadata": {},
   "outputs": [
    {
     "name": "stdout",
     "output_type": "stream",
     "text": [
      "FP32 model size: 8.12 MB\n",
      "INT8 model size: 2.09 MB\n"
     ]
    }
   ],
   "source": [
    "int8_ir_path = int8_onnx_path.with_suffix(\".xml\")\n",
    "\n",
    "original_model_size = Path(fp_ir_path).with_suffix(\".bin\").stat().st_size / 1024 / 1024\n",
    "quantized_model_size = (\n",
    "    Path(int8_ir_path).with_suffix(\".bin\").stat().st_size / 1024 / 1024\n",
    ")\n",
    "int8_ir_path = int8_onnx_path.with_suffix(\".xml\")\n",
    "\n",
    "print(f\"FP32 model size: {original_model_size:.2f} MB\")\n",
    "print(f\"INT8 model size: {quantized_model_size:.2f} MB\")"
   ]
  },
  {
   "cell_type": "markdown",
   "id": "b6a0ec64-4349-4731-9e72-10bf944c518a",
   "metadata": {
    "execution": {
     "iopub.execute_input": "2022-01-10T14:37:32.063195Z",
     "iopub.status.busy": "2022-01-10T14:37:32.063076Z",
     "iopub.status.idle": "2022-01-10T14:37:32.064803Z",
     "shell.execute_reply": "2022-01-10T14:37:32.064526Z",
     "shell.execute_reply.started": "2022-01-10T14:37:32.063184Z"
    },
    "tags": []
   },
   "source": [
    "## Compare Accuracy of PyTorch, FP32 and INT8 Models\n",
    "\n",
    "We compare the accuracy of the models on the validation and test set. We use both MONAI's ConfusionMatrixMetric and MedMNIST's Evaluator. Accuracy is computed as the number of correct predictions divided by the total number of predictions. For imbalanced datasets another [MONAI Metric](https://docs.monai.io/en/latest/metrics.html) may be more suitable. \n",
    "\n",
    "We also show a [classification report](https://scikit-learn.org/stable/modules/generated/sklearn.metrics.classification_report.html) and [confusion matrix](https://en.wikipedia.org/wiki/Confusion_matrix)."
   ]
  },
  {
   "cell_type": "code",
   "execution_count": 157,
   "id": "e67e6a78-fb15-4d56-a5ac-f6cb8fe942cd",
   "metadata": {
    "tags": []
   },
   "outputs": [],
   "source": [
    "def predict_ir(exec_net, image, return_class_index: bool = True):\n",
    "    \"\"\"\n",
    "    Do inference of image on exec_net. Return the result as class index integer\n",
    "    \"\"\"\n",
    "    input_layer = next(iter(exec_net.input_info))\n",
    "    output_layer = next(iter(exec_net.outputs))\n",
    "    output = exec_net.infer(inputs={input_layer: image})[output_layer]\n",
    "    if return_class_index:\n",
    "        output_shape = exec_net.outputs[output_layer].shape\n",
    "        if output_shape[-1] == 1:\n",
    "            predicted_class_index = sigmoid(output).round().astype(np.uint8).squeeze()\n",
    "        else:\n",
    "            predicted_class_index = np.argmax(output, axis=1).astype(np.uint8).squeeze()\n",
    "        result = predicted_class_index\n",
    "    else:\n",
    "        result = output\n",
    "    return result"
   ]
  },
  {
   "cell_type": "code",
   "execution_count": 158,
   "id": "5e6541b3-71fd-442f-a2e3-31bda03f434a",
   "metadata": {
    "tags": []
   },
   "outputs": [],
   "source": [
    "def compute_accuracy(exec_net, dataset, num_classes):\n",
    "    metric = ConfusionMatrixMetric(metric_name=[\"hit_rate\"])\n",
    "    cm = np.zeros((num_classes, num_classes), dtype=int)\n",
    "    y_score = torch.tensor([])\n",
    "    y_label = torch.tensor([])\n",
    "\n",
    "    for image, label in dataset:\n",
    "\n",
    "        output = predict_ir(exec_net, image, return_class_index=False)\n",
    "        if num_classes > 2:\n",
    "            softmax_outputs = torch.as_tensor(output).softmax(dim=-1)\n",
    "        else:\n",
    "            softmax_outputs = torch.sigmoid(torch.as_tensor(output))\n",
    "        y_score = torch.cat((y_score, softmax_outputs), 0)\n",
    "        label_ = label.float().resize_(len(label), 1)\n",
    "        y_label = torch.cat((y_label, label_), 0)\n",
    "\n",
    "        if len(label.shape) == 1:\n",
    "            label.unsqueeze_(-1)\n",
    "\n",
    "        is_binary_classification = num_classes <= 2\n",
    "        output_transforms = Compose(\n",
    "            [\n",
    "                ToTensor(),\n",
    "                Activations(sigmoid=is_binary_classification),\n",
    "                AsDiscrete(threshold=0.5 if is_binary_classification else None),\n",
    "                AsDiscrete(to_onehot=num_classes, argmax=not is_binary_classification),\n",
    "            ]\n",
    "        )\n",
    "        target_transforms = Compose([ToTensor(), AsDiscrete(to_onehot=num_classes)])\n",
    "\n",
    "        onehot_output = [output_transforms(item) for item in output]\n",
    "        onehot_target = [target_transforms(item) for item in label]\n",
    "        class_prediction = onehot_output[0].argmax().item()\n",
    "        cm[int(label.item()), class_prediction] += 1\n",
    "\n",
    "        metric(onehot_output, onehot_target)\n",
    "    return metric.aggregate()[0].item(), cm, y_score, y_label"
   ]
  },
  {
   "cell_type": "code",
   "execution_count": 159,
   "id": "f357217b-ff28-4404-a27a-4ab0f60de098",
   "metadata": {
    "tags": []
   },
   "outputs": [
    {
     "name": "stdout",
     "output_type": "stream",
     "text": [
      "Initialized DenseNet with settings: {'in_channels': 3, 'out_channels': 8, 'spatial_dims': 2, 'block_config': [6, 12, 8]} 8 classes\n"
     ]
    }
   ],
   "source": [
    "# Load IR and PyTorch Lightning Models\n",
    "ie = IECore()\n",
    "fp_net = ie.read_network(fp_ir_path)\n",
    "fp_exec_net = ie.load_network(fp_net, \"CPU\")\n",
    "int8_net = ie.read_network(int8_ir_path)\n",
    "int8_exec_net = ie.load_network(int8_net, \"CPU\")\n",
    "best_model = MonaiModel.load_from_checkpoint(checkpoint_path).cpu().eval()\n",
    "num_classes = monai_lightning_model.num_classes"
   ]
  },
  {
   "cell_type": "markdown",
   "id": "5370a4ed-48d0-4140-989b-2dbc8ecf5c11",
   "metadata": {},
   "source": [
    "### Compute Accuracy\n",
    "\n",
    "Compute the accuracy, and show classification report and confusion matrix for the validation set. Set `SPLIT` to \"test\" to show the metrics for the test set."
   ]
  },
  {
   "cell_type": "code",
   "execution_count": 160,
   "id": "4fff9919-2d3f-4ada-badc-e523986153ba",
   "metadata": {
    "tags": []
   },
   "outputs": [
    {
     "name": "stdout",
     "output_type": "stream",
     "text": [
      "Setup bloodmnist val, 3 channels, 8 classes\n",
      "Using downloaded and verified file: /home/helena/.medmnist/bloodmnist.npz\n",
      "val accuracy of the PyTorch model: 0.83178\n",
      "val accuracy of the original IR model: 0.83178\n",
      "val accuracy of the quantized IR model: 0.88143\n"
     ]
    }
   ],
   "source": [
    "SPLIT = \"val\"  # choose \"val\" or \"test\"\n",
    "validation_dataset = MedMNISTDataset(medmnist_dataset=medmnist_dataset, split=SPLIT)\n",
    "fp_acc, fp_cm, fp_y_score, fp_y_label = compute_accuracy(\n",
    "    fp_exec_net, validation_dataset, num_classes\n",
    ")\n",
    "int8_acc, int8_cm, int8_y_score, int8_y_label = compute_accuracy(\n",
    "    int8_exec_net, validation_dataset, num_classes\n",
    ")\n",
    "\n",
    "pytorch_acc = (\n",
    "    torch_val_accuracy[0][\"validate_accuracy\"]\n",
    "    if SPLIT == \"val\"\n",
    "    else torch_test_accuracy[0][\"test_accuracy\"]\n",
    ")\n",
    "print(f\"{SPLIT} accuracy of the PyTorch model: {pytorch_acc:.5f}\")\n",
    "print(f\"{SPLIT} accuracy of the original IR model: {fp_acc:.5f}\")\n",
    "print(f\"{SPLIT} accuracy of the quantized IR model: {int8_acc:.5f}\")"
   ]
  },
  {
   "cell_type": "markdown",
   "id": "d1198da5-8d18-4132-811b-879fa573dfd2",
   "metadata": {},
   "source": [
    "MedMNIST offers a method to show the accuracy and AUC on a specific datasets. We use it to verify that the accuracy as computed by MedMNIST is the same as the accuracy computed in the cell above, with the method that was also used during model training. MedMNIST also computes the AUC. Benchmark results for accuracy and AUC are reported on the [MedMNIST website](https://medmnist.com/)."
   ]
  },
  {
   "cell_type": "code",
   "execution_count": 161,
   "id": "c622d5ec-5e6b-49e6-bf00-ad0198e214b8",
   "metadata": {
    "tags": []
   },
   "outputs": [
    {
     "name": "stdout",
     "output_type": "stream",
     "text": [
      "MedMNIST_AUC: 0.98873\n",
      "MedMNIST_ACC: 0.88143\n"
     ]
    }
   ],
   "source": [
    "evaluator = Evaluator(medmnist_dataset, SPLIT)\n",
    "metrics = evaluator.evaluate(np.array(int8_y_score))\n",
    "\n",
    "print(f\"MedMNIST_AUC: {metrics.AUC:.5f}\")\n",
    "print(f\"MedMNIST_ACC: {metrics.ACC:.5f}\")"
   ]
  },
  {
   "cell_type": "markdown",
   "id": "98db1f63-14a8-4694-87ce-2b3fb6b9db51",
   "metadata": {},
   "source": [
    "scikit-learn's [classification_report](https://scikit-learn.org/stable/modules/model_evaluation.html#classification-report) gives an at-a-glance overview of the model's performance with more detail than a single accuracy score. We show a classification report for the quantized model."
   ]
  },
  {
   "cell_type": "code",
   "execution_count": 162,
   "id": "d702bee1-91a2-4461-849e-2330aedc6726",
   "metadata": {
    "tags": []
   },
   "outputs": [
    {
     "name": "stdout",
     "output_type": "stream",
     "text": [
      "              precision    recall  f1-score   support\n",
      "\n",
      "    basophil       0.78      0.72      0.75       122\n",
      "  eosinophil       0.98      0.98      0.98       312\n",
      "erythroblast       0.84      0.96      0.90       155\n",
      "          ig       0.76      0.64      0.70       290\n",
      "  lymphocyte       0.83      0.92      0.87       122\n",
      "    monocyte       0.70      0.81      0.75       143\n",
      "  neutrophil       0.97      0.95      0.96       333\n",
      "    platelet       0.98      1.00      0.99       235\n",
      "\n",
      "    accuracy                           0.88      1712\n",
      "   macro avg       0.86      0.87      0.86      1712\n",
      "weighted avg       0.88      0.88      0.88      1712\n",
      "\n"
     ]
    }
   ],
   "source": [
    "labels = data.dataset_train.labels.values()\n",
    "if num_classes <= 2:\n",
    "    predictions = int8_y_score.round().long().squeeze()\n",
    "    print(classification_report(int8_y_label, predictions, target_names=labels))\n",
    "else:\n",
    "    predictions = int8_y_score.argmax(dim=1)\n",
    "    print(classification_report(int8_y_label, predictions, target_names=labels))"
   ]
  },
  {
   "cell_type": "markdown",
   "id": "8e9c0075-c378-4204-b673-0d9b5706fad8",
   "metadata": {},
   "source": [
    "A [Confusion Matrix](https://en.wikipedia.org/wiki/Confusion_matrix) gives exact information on how well the model performs on each label. "
   ]
  },
  {
   "cell_type": "code",
   "execution_count": 163,
   "id": "145b7987-f1e3-4ce2-aed0-d12a4e244c78",
   "metadata": {},
   "outputs": [
    {
     "data": {
      "image/png": "[encoded data removed]",
      "text/plain": [
       "<Figure size 1152x360 with 2 Axes>"
      ]
     },
     "metadata": {
      "needs_background": "light"
     },
     "output_type": "display_data"
    }
   ],
   "source": [
    "fig, axs = plt.subplots(1, 2, figsize=(16, 5))\n",
    "\n",
    "fp_im = axs[0].imshow(fp_cm / fp_cm.sum(axis=0), cmap=\"Blues\", alpha=0.5)\n",
    "int8_im = axs[1].imshow(int8_cm / int8_cm.sum(axis=0), cmap=\"Blues\", alpha=0.5)\n",
    "\n",
    "labels = data.dataset_train.labels.values()\n",
    "# Show all ticks and label them with the respective list entries\n",
    "for ax in axs:\n",
    "    ax.tick_params(top=True, bottom=False, labeltop=True, labelbottom=False)\n",
    "\n",
    "    ax.set_xticks(np.arange(num_classes), labels=labels)\n",
    "    ax.set_yticks(np.arange(num_classes), labels=labels)\n",
    "\n",
    "    # Rotate the tick labels and set their alignment.\n",
    "    plt.setp(\n",
    "        ax.get_xticklabels(), rotation=-30, ha=\"right\", rotation_mode=\"anchor\", size=13\n",
    "    )\n",
    "    plt.setp(ax.get_yticklabels(), size=13)\n",
    "    ax.set_ylabel(\"Actual classes\", size=13)\n",
    "    ax.set_xlabel(\"Predicted classes\", size=13)\n",
    "    ax.xaxis.set_label_position(\"top\")\n",
    "\n",
    "# Loop over data dimensions and create text annotations.\n",
    "for i in range(len(labels)):\n",
    "    for j in range(len(labels)):\n",
    "        text = axs[0].text(\n",
    "            j, i, fp_cm[i, j], ha=\"center\", va=\"center\", color=\"black\", size=16\n",
    "        )\n",
    "        text = axs[1].text(\n",
    "            j, i, int8_cm[i, j], ha=\"center\", va=\"center\", color=\"black\", size=16\n",
    "        )\n",
    "axs[0].set_title(f\"FP32 Confusion Matrix - {SPLIT} set\")\n",
    "axs[1].set_title(f\"INT8 Confusion Matrix - {SPLIT} set\");"
   ]
  },
  {
   "cell_type": "markdown",
   "id": "38ab67f5-12a3-4354-aa40-26b0621fb86a",
   "metadata": {
    "execution": {
     "iopub.execute_input": "2022-01-10T14:52:22.314372Z",
     "iopub.status.busy": "2022-01-10T14:52:22.314259Z",
     "iopub.status.idle": "2022-01-10T14:52:22.316128Z",
     "shell.execute_reply": "2022-01-10T14:52:22.315846Z",
     "shell.execute_reply.started": "2022-01-10T14:52:22.314362Z"
    }
   },
   "source": [
    "## Visually Compare Inference Results"
   ]
  },
  {
   "cell_type": "code",
   "execution_count": 164,
   "id": "8b7caf74-9ce2-42a8-8126-1ce547d7a569",
   "metadata": {
    "tags": []
   },
   "outputs": [
    {
     "data": {
      "image/png": "[encoded data removed]",
      "text/plain": [
       "<Figure size 1440x432 with 10 Axes>"
      ]
     },
     "metadata": {
      "needs_background": "light"
     },
     "output_type": "display_data"
    }
   ],
   "source": [
    "def sigmoid(x):\n",
    "    return np.exp(-np.logaddexp(0, -x))\n",
    "\n",
    "\n",
    "# Load 10 random images. Run this cell again to see inference results on\n",
    "# 10 different images\n",
    "indices = random.sample(range(len(data.dataset_test)), 10)\n",
    "data_subset = itemgetter(*indices)(data.dataset_test)\n",
    "\n",
    "fig, axs = plt.subplots(nrows=2, ncols=5, figsize=(20, 6))\n",
    "fig.tight_layout(h_pad=5)\n",
    "monai_lightning_model.eval()\n",
    "\n",
    "for i, ax in enumerate(axs.ravel()):\n",
    "    image, annotation = data_subset[i]\n",
    "    input_image = image.unsqueeze(0)\n",
    "    torch_prediction = best_model.predict_one(input_image).item()\n",
    "    fp_ir_prediction = predict_ir(fp_exec_net, input_image)\n",
    "    int8_ir_prediction = predict_ir(int8_exec_net, input_image)\n",
    "\n",
    "    if len(image.shape) == 3:\n",
    "        image = image.permute(1, 2, 0).numpy().astype(np.uint8)\n",
    "    elif len(image.shape) == 4:\n",
    "        image = image[0][14]\n",
    "    target_label = (\n",
    "        f\"annotation: {data.dataset_train.labels[str(annotation.short().item())]}\"\n",
    "    )\n",
    "    torch_predicted_label = f\"torch: {data.dataset_train.labels[str(torch_prediction)]}\"\n",
    "    fp_predicted_label = f\"FP IR: {data.dataset_train.labels[str(fp_ir_prediction)]}\"\n",
    "    int8_predicted_label = (\n",
    "        f\"INT8 IR: {data.dataset_train.labels[str(int8_ir_prediction)]}\"\n",
    "    )\n",
    "    ax.imshow(image, cmap=\"gray\")\n",
    "    ax.set_title(\n",
    "        f\"{target_label}\\n{torch_predicted_label}\\n{fp_predicted_label}\\n{int8_predicted_label}\"\n",
    "    )\n",
    "    ax.axis(\"off\")"
   ]
  },
  {
   "cell_type": "markdown",
   "id": "7e4983ca-01f1-4867-a297-6f343c65b86c",
   "metadata": {},
   "source": [
    "## Benchmark Performance\n",
    "\n",
    "To measure the inference performance of the FP16 and INT8 models, we use [Benchmark Tool](https://docs.openvino.ai/latest/openvino_inference_engine_tools_benchmark_tool_README.html#doxid-openvino-inference-engine-tools-benchmark-tool-r-e-a-d-m-e), OpenVINO's inference performance measurement tool. Benchmark tool is a command line application that can be run in the notebook with ! benchmark_app or %sx benchmark_app.\n",
    "\n",
    "In the next cell, we create a wrapper function for `benchmark_app` that prints the benchmark_app command with the chosen parameters. For comparison purposes, it filters logging information from the output of `benchmark_app`.\n",
    "\n",
    "> NOTE: For the most accurate performance estimation, we recommended running benchmark_app in a terminal/command prompt after closing other applications. Run `benchmark_app --help` to see all command line options."
   ]
  },
  {
   "cell_type": "code",
   "execution_count": 165,
   "id": "7ca87e49-d3d6-4502-8e4b-af64a06da3b6",
   "metadata": {
    "tags": []
   },
   "outputs": [],
   "source": [
    "def benchmark_model(\n",
    "    model_path: os.PathLike,\n",
    "    device: str = \"CPU\",\n",
    "    seconds: int = 60,\n",
    "    api: str = \"async\",\n",
    "    batch: int = 1,\n",
    "    cache_dir: str = \"model_cache\",\n",
    "    key: Optional[str] = None,\n",
    "    input_shape: Optional[Sequence] = None,\n",
    "):\n",
    "    ie = IECore()\n",
    "    model_path = Path(model_path)\n",
    "    if (\"GPU\" in device) and (\"GPU\" not in ie.available_devices):\n",
    "        raise ValueError(\n",
    "            f\"A GPU device is not available. Available devices are: {ie.available_devices}\"\n",
    "        )\n",
    "    else:\n",
    "        benchmark_command = f\"benchmark_app -m {model_path} -d {device} -t {seconds} -api {api} -b {batch} -cdir {cache_dir}\"\n",
    "        if input_shape is not None:\n",
    "            input_shape_str = f'[{\",\".join([str(item) for item in input_shape])}]'\n",
    "            benchmark_command += f\" -shape {input_shape_str}\"\n",
    "\n",
    "        display(\n",
    "            Markdown(\n",
    "                f\"**Benchmark {model_path.name} {key} model on {device} for {seconds} seconds with {api} inference**\"\n",
    "            )\n",
    "        )\n",
    "        display(Markdown(f\"Benchmark command: `{benchmark_command}`\"))\n",
    "\n",
    "        benchmark_output = subprocess.run(\n",
    "            benchmark_command.split(\" \"), capture_output=True, universal_newlines=True\n",
    "        )\n",
    "        benchmark_result = [\n",
    "            line.replace(\"Latency\", f\"{key}_Latency\").replace(\n",
    "                \"Throughput\", f\"{key}_Throughput\"\n",
    "            )\n",
    "            for line in benchmark_output.stdout.splitlines()\n",
    "            if not (line.startswith(r\"[\") or line.startswith(\"  \") or line == \"\")\n",
    "        ]\n",
    "        print(\"\\n\".join(benchmark_result))\n",
    "        print()\n",
    "        if \"MULTI\" in device:\n",
    "            devices = device.replace(\"MULTI:\", \"\").split(\",\")\n",
    "            for single_device in devices:\n",
    "                print(\n",
    "                    f\"{single_device} device: {ie.get_metric(device_name=single_device, metric_name='FULL_DEVICE_NAME')}\"\n",
    "                )\n",
    "        else:\n",
    "            print(\n",
    "                f\"Device: {ie.get_metric(device_name=device, metric_name='FULL_DEVICE_NAME')}\"\n",
    "            )"
   ]
  },
  {
   "cell_type": "markdown",
   "id": "bc531281-568b-4116-a2f4-9b4b87df36d5",
   "metadata": {},
   "source": [
    "<div class=\"alert-info\">Performance on MedMNIST datasets with 28x28(x28) images is not indicative of performance with real data. Set `SET_BENCHMARK_SHAPE` to True in the cell below to specify a more realistic input size to `benchmark_app`, to get an indication of performance on real data.</div>"
   ]
  },
  {
   "cell_type": "code",
   "execution_count": 166,
   "id": "9453e81b-611c-436c-83cb-e5db2fb3f5ee",
   "metadata": {},
   "outputs": [],
   "source": [
    "SET_BENCHMARK_SHAPE = True\n",
    "if SET_BENCHMARK_SHAPE:\n",
    "    if data.dataset_train.num_dims == 3:\n",
    "        benchmark_shape = [1, data.dataset_train.num_channels, 128, 128, 128]\n",
    "    else:\n",
    "        benchmark_shape = [1, data.dataset_train.num_channels, 512, 512]\n",
    "else:\n",
    "    benchmark_shape = None"
   ]
  },
  {
   "cell_type": "code",
   "execution_count": 167,
   "id": "f24802c7-6614-4516-83ef-df18a86100dd",
   "metadata": {
    "tags": []
   },
   "outputs": [
    {
     "data": {
      "text/markdown": [
       "**Benchmark DenseNet_bloodmnist_fp32.xml FP32 model on CPU for 15 seconds with sync inference**"
      ],
      "text/plain": [
       "<IPython.core.display.Markdown object>"
      ]
     },
     "metadata": {},
     "output_type": "display_data"
    },
    {
     "data": {
      "text/markdown": [
       "Benchmark command: `benchmark_app -m nncf_models/DenseNet_bloodmnist_fp32.xml -d CPU -t 15 -api sync -b 1 -cdir model_cache -shape [1,3,512,512]`"
      ],
      "text/plain": [
       "<IPython.core.display.Markdown object>"
      ]
     },
     "metadata": {},
     "output_type": "display_data"
    },
    {
     "name": "stdout",
     "output_type": "stream",
     "text": [
      "Count:      224 iterations\n",
      "Duration:   15003.00 ms\n",
      "FP32_Latency:    66.52 ms\n",
      "FP32_Throughput: 15.03 FPS\n",
      "\n",
      "Device: 11th Gen Intel(R) Core(TM) i7-1185G7 @ 3.00GHz\n"
     ]
    }
   ],
   "source": [
    "# FP model on CPU\n",
    "benchmark_model(\n",
    "    fp_ir_path,\n",
    "    device=\"CPU\",\n",
    "    seconds=15,\n",
    "    api=\"sync\",\n",
    "    key=\"FP32\",\n",
    "    input_shape=benchmark_shape,\n",
    ")"
   ]
  },
  {
   "cell_type": "code",
   "execution_count": 124,
   "id": "4cafa3cd-9751-42c4-869d-e9560d200a40",
   "metadata": {
    "tags": []
   },
   "outputs": [
    {
     "data": {
      "text/markdown": [
       "**Benchmark DenseNet_breastmnist_nncf.xml INT8 model on CPU for 15 seconds with sync inference**"
      ],
      "text/plain": [
       "<IPython.core.display.Markdown object>"
      ]
     },
     "metadata": {},
     "output_type": "display_data"
    },
    {
     "data": {
      "text/markdown": [
       "Benchmark command: `benchmark_app -m nncf_models/DenseNet_breastmnist_nncf.xml -d CPU -t 15 -api sync -b 1 -cdir model_cache -shape [1,1,512,512]`"
      ],
      "text/plain": [
       "<IPython.core.display.Markdown object>"
      ]
     },
     "metadata": {},
     "output_type": "display_data"
    },
    {
     "name": "stdout",
     "output_type": "stream",
     "text": [
      "Count:      646 iterations\n",
      "Duration:   15009.55 ms\n",
      "INT8_Latency:    23.10 ms\n",
      "INT8_Throughput: 43.29 FPS\n",
      "\n",
      "Device: 11th Gen Intel(R) Core(TM) i7-1185G7 @ 3.00GHz\n"
     ]
    }
   ],
   "source": [
    "# INT8 model on CPU\n",
    "benchmark_model(\n",
    "    int8_ir_path,\n",
    "    device=\"CPU\",\n",
    "    seconds=15,\n",
    "    api=\"sync\",\n",
    "    key=\"INT8\",\n",
    "    input_shape=benchmark_shape,\n",
    ")"
   ]
  }
 ],
 "metadata": {
  "kernelspec": {
   "display_name": "Python 3 (ipykernel)",
   "language": "python",
   "name": "python3"
  },
  "language_info": {
   "codemirror_mode": {
    "name": "ipython",
    "version": 3
   },
   "file_extension": ".py",
   "mimetype": "text/x-python",
   "name": "python",
   "nbconvert_exporter": "python",
   "pygments_lexer": "ipython3",
   "version": "3.8.10"
  }
 },
 "nbformat": 4,
 "nbformat_minor": 5
}
